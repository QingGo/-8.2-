{
 "cells": [
  {
   "cell_type": "code",
   "execution_count": 1,
   "metadata": {
    "ExecuteTime": {
     "end_time": "2019-10-06T12:39:50.235904Z",
     "start_time": "2019-10-06T12:39:50.222882Z"
    }
   },
   "outputs": [],
   "source": [
    "from collections import Counter\n",
    "from copy import deepcopy"
   ]
  },
  {
   "cell_type": "code",
   "execution_count": 2,
   "metadata": {
    "ExecuteTime": {
     "end_time": "2019-10-06T12:39:50.599906Z",
     "start_time": "2019-10-06T12:39:50.579874Z"
    }
   },
   "outputs": [],
   "source": [
    "items_dict = {}\n",
    "items_dict['极其聪明的寄居蟹'] = ('穆勒尔', {'养生鱼人午餐':4, '超沉的石头':2, '超粘的蜗牛':3})\n",
    "\n",
    "items_dict['粘滑的娜迦眼球'] = ('穆勒格勒勒', {'金币':1})\n",
    "items_dict['正在崩解的沙雕'] = ('穆勒格勒勒', {'甜美的海菜':4})\n",
    "items_dict['超沉的石头'] = ('穆勒格勒勒', {'一袋不可名状之物':3, '一罐鱼脸':3})\n",
    "items_dict['一堆臭糊'] = ('穆勒格勒勒', {'非常普通的黄油':2})\n",
    "\n",
    "items_dict['胀气鱼'] = ('格姆勒格', {'金币':1})\n",
    "items_dict['奇特的鱼人之角'] = ('格姆勒格', {'粘滑的娜迦眼球':3})\n",
    "items_dict['超粘的蜗牛'] = ('格姆勒格', {'正在崩解的沙雕':5})\n",
    "items_dict['海巨人的脚灰'] = ('格姆勒格', {'清洁的鱼人袜子':3})\n",
    "\n",
    "items_dict['甜美的海菜'] = ('胡勒格勒', {'金币':1})\n",
    "items_dict['一罐鱼脸'] = ('胡勒格勒', {'胀气鱼':5})\n",
    "items_dict['脏兮兮的鱼人袜子'] = ('胡勒格勒', {'未鉴定的物质':6})\n",
    "items_dict['养生鱼人午餐'] = ('胡勒格勒', {'奇特的鱼人之角':5})\n",
    "\n",
    "items_dict['未鉴定的物质'] = ('弗勒格勒', {'金币':1})\n",
    "items_dict['一袋不可名状之物'] = ('弗勒格勒', {'胀气鱼':2})\n",
    "items_dict['非常普通的黄油'] = ('弗勒格勒', {'甜美的海菜':4})\n",
    "items_dict['幽魂的食物'] = ('弗勒格勒', {'奇特的鱼人之角':6})"
   ]
  },
  {
   "cell_type": "code",
   "execution_count": 3,
   "metadata": {
    "ExecuteTime": {
     "end_time": "2019-10-06T12:39:51.036905Z",
     "start_time": "2019-10-06T12:39:51.027873Z"
    }
   },
   "outputs": [
    {
     "name": "stdout",
     "output_type": "stream",
     "text": [
      "从胡勒格勒使用{'金币': 60}购买甜美的海菜 60个\n",
      "从穆勒格勒勒使用{'甜美的海菜': 60}购买正在崩解的沙雕 15个\n",
      "从格姆勒格使用{'正在崩解的沙雕': 15}购买超粘的蜗牛 3个\n"
     ]
    }
   ],
   "source": [
    "str_formater = '从{}使用{}购买{} {}个'\n",
    "\n",
    "target = '超粘的蜗牛'\n",
    "needed_dict = Counter()\n",
    "needed_dict[target] = 3\n",
    "print_list = []\n",
    "\n",
    "while True:\n",
    "    new_needed_dict = Counter()\n",
    "    for new_target, count in needed_dict.items():\n",
    "        seller_name, new_need_items_dict = deepcopy(items_dict[new_target])\n",
    "        # 叠加购买次数\n",
    "        for k in new_need_items_dict:\n",
    "            new_need_items_dict[k] *= count \n",
    "        \n",
    "        print_list.append(str_formater.format(seller_name, new_need_items_dict, new_target, count))\n",
    "        new_needed_dict += Counter(new_need_items_dict)\n",
    "        \n",
    "    if len(new_needed_dict) == 1 and '金币' in new_needed_dict:\n",
    "        break\n",
    "    else:\n",
    "        needed_dict = deepcopy(new_needed_dict)\n",
    "\n",
    "for print_str in print_list[::-1]:\n",
    "    print(print_str)"
   ]
  },
  {
   "cell_type": "code",
   "execution_count": null,
   "metadata": {},
   "outputs": [],
   "source": []
  }
 ],
 "metadata": {
  "jupytext": {
   "encoding": "# -*- coding: utf-8 -*-",
   "formats": "ipynb,py:light"
  },
  "kernelspec": {
   "display_name": "Python 3",
   "language": "python",
   "name": "python3"
  },
  "language_info": {
   "codemirror_mode": {
    "name": "ipython",
    "version": 3
   },
   "file_extension": ".py",
   "mimetype": "text/x-python",
   "name": "python",
   "nbconvert_exporter": "python",
   "pygments_lexer": "ipython3",
   "version": "3.7.0"
  },
  "toc": {
   "base_numbering": 1,
   "nav_menu": {},
   "number_sections": true,
   "sideBar": true,
   "skip_h1_title": false,
   "title_cell": "Table of Contents",
   "title_sidebar": "Contents",
   "toc_cell": false,
   "toc_position": {},
   "toc_section_display": true,
   "toc_window_display": false
  }
 },
 "nbformat": 4,
 "nbformat_minor": 2
}
